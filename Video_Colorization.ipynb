{
  "nbformat": 4,
  "nbformat_minor": 0,
  "metadata": {
    "colab": {
      "name": "Video Colorization.ipynb",
      "provenance": [],
      "collapsed_sections": [],
      "authorship_tag": "ABX9TyP2hIdieXCAzoi2r5Cix8Ve",
      "include_colab_link": true
    },
    "kernelspec": {
      "name": "python3",
      "display_name": "Python 3"
    }
  },
  "cells": [
    {
      "cell_type": "markdown",
      "metadata": {
        "id": "view-in-github",
        "colab_type": "text"
      },
      "source": [
        "<a href=\"https://colab.research.google.com/github/cappelchi/Video-Colorization/blob/master/Video_Colorization.ipynb\" target=\"_parent\"><img src=\"https://colab.research.google.com/assets/colab-badge.svg\" alt=\"Open In Colab\"/></a>"
      ]
    },
    {
      "cell_type": "markdown",
      "metadata": {
        "id": "58RguPelBQgX",
        "colab_type": "text"
      },
      "source": [
        "[Image Colorization API](https://deepai.org/machine-learning-model/colorizer)"
      ]
    },
    {
      "cell_type": "code",
      "metadata": {
        "id": "1snbbGu_orYr",
        "colab_type": "code",
        "outputId": "bf83f4cf-17a9-4c78-e583-348cddda426b",
        "colab": {
          "base_uri": "https://localhost:8080/",
          "height": 106
        }
      },
      "source": [
        "!pip install youtube_dl"
      ],
      "execution_count": 16,
      "outputs": [
        {
          "output_type": "stream",
          "text": [
            "Collecting youtube_dl\n",
            "\u001b[?25l  Downloading https://files.pythonhosted.org/packages/05/d4/64dfe51be0fae772e86be3c83d82ec22d59aa8521d8834e10355bf60f9f5/youtube_dl-2020.1.24-py2.py3-none-any.whl (1.8MB)\n",
            "\u001b[K     |████████████████████████████████| 1.8MB 4.7MB/s \n",
            "\u001b[?25hInstalling collected packages: youtube-dl\n",
            "Successfully installed youtube-dl-2020.1.24\n"
          ],
          "name": "stdout"
        }
      ]
    },
    {
      "cell_type": "code",
      "metadata": {
        "id": "MHuTmMUG7SLI",
        "colab_type": "code",
        "colab": {}
      },
      "source": [
        "import requests\n",
        "import cv2\n",
        "import numpy as np\n",
        "import urllib\n",
        "import os\n",
        "from os.path import isfile, join\n",
        "from __future__ import unicode_literals\n",
        "import youtube_dl\n",
        "import matplotlib.pyplot as plt\n",
        "from google.colab import output\n",
        "from IPython.display import YouTubeVideo"
      ],
      "execution_count": 0,
      "outputs": []
    },
    {
      "cell_type": "code",
      "metadata": {
        "id": "MSKuoQ6hrU3S",
        "colab_type": "code",
        "colab": {}
      },
      "source": [
        "#Если нужно загружать видео с опциями\n",
        "def my_hook(d):\n",
        "    if d['status'] == 'finished':\n",
        "        print('Done downloading, now converting ...')\n",
        "\n",
        "\n",
        "ydl_opts = {\n",
        "    #'format': 'bestaudio/best',\n",
        "    #'postprocessors': [{\n",
        "    #    'key': 'FFmpegExtractAudio',\n",
        "    #    'preferredcodec': 'mp3',\n",
        "    #    'preferredquality': '192',\n",
        "    #}],\n",
        "    #'logger': MyLogger(),\n",
        "    'progress_hooks': [my_hook],\n",
        "}"
      ],
      "execution_count": 0,
      "outputs": []
    },
    {
      "cell_type": "markdown",
      "metadata": {
        "id": "txJufjmU9aTj",
        "colab_type": "text"
      },
      "source": [
        "#Загружаем видео в Colab."
      ]
    },
    {
      "cell_type": "code",
      "metadata": {
        "id": "TYcYdpGIodbz",
        "colab_type": "code",
        "outputId": "c740018f-e333-4f3e-ce88-0ed97bac1932",
        "colab": {
          "base_uri": "https://localhost:8080/",
          "height": 679
        }
      },
      "source": [
        "#@title Укажите адрес видео\n",
        "you_url = 'https://www.youtube.com/watch?v=FYHF3a9R5DY' #@param {type: \"string\"}\n",
        "ydl_opts = {}\n",
        "with youtube_dl.YoutubeDL(ydl_opts) as ydl:\n",
        "    ydl.download([you_url])\n",
        "with ydl:\n",
        "    result = ydl.extract_info(\n",
        "        you_url,\n",
        "        download=False # We just want to extract the info\n",
        "    )\n",
        "\n",
        "if 'entries' in result:\n",
        "    # Can be a playlist or a list of videos\n",
        "    video = result['entries'][0]\n",
        "else:\n",
        "    # Just a video\n",
        "    video = result\n",
        "print ('Продолжительность:', video['duration'])\n",
        "print ('Video ID:', video['display_id'])\n",
        "print ('Название:', video['title'])\n",
        "print ('Дата загрузки:', video['upload_date'])\n",
        "print ('Количество просмотров:', video['view_count'])\n",
        "print (video['webpage_url'])\n",
        "filename = video['title'] + '-' + video['display_id'] + '.mkv'\n",
        "print(filename)\n",
        "YouTubeVideo(video['display_id'])"
      ],
      "execution_count": 0,
      "outputs": [
        {
          "output_type": "stream",
          "text": [
            "[youtube] FYHF3a9R5DY: Downloading webpage\n",
            "[youtube] FYHF3a9R5DY: Downloading video info webpage\n"
          ],
          "name": "stdout"
        },
        {
          "output_type": "stream",
          "text": [
            "WARNING: Requested formats are incompatible for merge and will be merged into mkv.\n"
          ],
          "name": "stderr"
        },
        {
          "output_type": "stream",
          "text": [
            "[download] Destination: May 1896 - Tverskaya Street in Moscow, Russia (speed corrected w_ added sound)-FYHF3a9R5DY.f247.webm\n",
            "[download] 100% of 7.79MiB in 00:00\n",
            "[download] Destination: May 1896 - Tverskaya Street in Moscow, Russia (speed corrected w_ added sound)-FYHF3a9R5DY.f140.m4a\n",
            "[download] 100% of 815.70KiB in 00:00\n",
            "[ffmpeg] Merging formats into \"May 1896 - Tverskaya Street in Moscow, Russia (speed corrected w_ added sound)-FYHF3a9R5DY.mkv\"\n",
            "Deleting original file May 1896 - Tverskaya Street in Moscow, Russia (speed corrected w_ added sound)-FYHF3a9R5DY.f247.webm (pass -k to keep)\n",
            "Deleting original file May 1896 - Tverskaya Street in Moscow, Russia (speed corrected w_ added sound)-FYHF3a9R5DY.f140.m4a (pass -k to keep)\n",
            "[youtube] FYHF3a9R5DY: Downloading webpage\n",
            "[youtube] FYHF3a9R5DY: Downloading video info webpage\n",
            "Продолжительность: 53\n",
            "Video ID: FYHF3a9R5DY\n",
            "Название: May 1896 - Tverskaya Street in Moscow, Russia (speed corrected w/ added sound)\n",
            "Дата загрузки: 20180907\n",
            "Количество просмотров: 1865119\n",
            "https://www.youtube.com/watch?v=FYHF3a9R5DY\n",
            "May 1896 - Tverskaya Street in Moscow, Russia (speed corrected w/ added sound)-FYHF3a9R5DY.mkv\n"
          ],
          "name": "stdout"
        },
        {
          "output_type": "execute_result",
          "data": {
            "text/html": [
              "\n",
              "        <iframe\n",
              "            width=\"400\"\n",
              "            height=\"300\"\n",
              "            src=\"https://www.youtube.com/embed/FYHF3a9R5DY\"\n",
              "            frameborder=\"0\"\n",
              "            allowfullscreen\n",
              "        ></iframe>\n",
              "        "
            ],
            "text/plain": [
              "<IPython.lib.display.YouTubeVideo at 0x7fb2ee325c50>"
            ],
            "image/jpeg": "[encoded data removed]"
          },
          "metadata": {
            "tags": []
          },
          "execution_count": 3
        }
      ]
    },
    {
      "cell_type": "markdown",
      "metadata": {
        "id": "loMP1DO4yWhK",
        "colab_type": "text"
      },
      "source": [
        "#Кадрируем видео\n",
        "В cv2.VideoCapture ('video.mkv') мы просто должны упомянуть название видео с его расширением. Нужно установить частоту кадров, которая широко известна как fps (кадров в секунду). Здесь я установил 0,5, чтобы он захватывал кадр каждые 0,5 секунды, то есть 2 кадра (изображения) за каждую секунду.\n",
        "Это сохранит изображения с именем как image1.jpg, image2.jpg и так далее."
      ]
    },
    {
      "cell_type": "code",
      "metadata": {
        "id": "IXi6tn-uyVdV",
        "colab_type": "code",
        "colab": {}
      },
      "source": [
        "import cv2\n",
        "vidcap = cv2.VideoCapture('May 1896 - Tverskaya Street in Moscow, Russia (speed corrected w_ added sound)-FYHF3a9R5DY.mkv')\n",
        "def getFrame(sec):\n",
        "    vidcap.set(cv2.CAP_PROP_POS_MSEC,sec*1000)\n",
        "    hasFrames,image = vidcap.read()\n",
        "    if hasFrames:\n",
        "        cv2.imwrite(\"image\"+str(count)+\".jpg\", image)     # кадры сохраняем в .jpg\n",
        "    return hasFrames\n",
        "sec = 0\n",
        "fps = 25 #25 кадров в секунду\n",
        "frameRate = 1 / fps  #//кадрирование 25 кадров в секунду\n",
        "count=1\n",
        "success = getFrame(sec)\n",
        "while success:\n",
        "    count = count + 1\n",
        "    sec = sec + frameRate\n",
        "    sec = round(sec, 2)\n",
        "    success = getFrame(sec)"
      ],
      "execution_count": 0,
      "outputs": []
    },
    {
      "cell_type": "code",
      "metadata": {
        "id": "0-B0CtSSJNBg",
        "colab_type": "code",
        "colab": {}
      },
      "source": [
        "# OpenCV, NumPy, and urllib\n",
        "def url_to_image(url):\n",
        "\t#Скачиваем изображение, конвертируем его NumPy array и читаем в CV\n",
        "\tresp = urllib.request.urlopen(url)\n",
        "\timage = np.asarray(bytearray(resp.read()), dtype=\"uint8\")\n",
        "\timage = cv2.imdecode(image, cv2.IMREAD_COLOR)\n",
        " \n",
        "\t# return the image\n",
        "\treturn image"
      ],
      "execution_count": 0,
      "outputs": []
    },
    {
      "cell_type": "markdown",
      "metadata": {
        "id": "Je7Os2XCGMoQ",
        "colab_type": "text"
      },
      "source": [
        "Идем на сайт [Image Colorization API](https://deepai.org/machine-learning-model/colorizer), регистрируемся и получаем свой api-key для доступа к колорайзеру.\n",
        "\n"
      ]
    },
    {
      "cell_type": "markdown",
      "metadata": {
        "id": "bgGjLamsB5RN",
        "colab_type": "text"
      },
      "source": [
        "#Добавляем цвет"
      ]
    },
    {
      "cell_type": "code",
      "metadata": {
        "id": "_wK7Hb6562i0",
        "colab_type": "code",
        "outputId": "64002055-65d5-4428-d43a-ef180f632a57",
        "colab": {
          "base_uri": "https://localhost:8080/",
          "height": 258
        }
      },
      "source": [
        "for num in range(1154, 1313):\n",
        "    image_name = 'image' + str(num) + '.jpg'\n",
        "    #cimage_name = 'cimage' + str(num) + '.jpg' #если нужно цвет сохранять отдельно\n",
        "    r = requests.post(\n",
        "        \"https://api.deepai.org/api/colorizer\",\n",
        "        files={\n",
        "            'image': open(image_name, 'rb'),\n",
        "        },\n",
        "        headers={'api-key': %env api_key}\n",
        "    )\n",
        "    response = r.json()\n",
        "    image_from_url = url_to_image(response['output_url'])\n",
        "    cv2.imwrite(image_name, image_from_url)\n",
        "    #cv2.imwrite(cimage_name, image_from_url)\n",
        "    if num % 25 == 0:\n",
        "        output.clear()\n",
        "        print (num)\n",
        "        plt.imshow(image_from_url)\n",
        "        plt.show()"
      ],
      "execution_count": 0,
      "outputs": [
        {
          "output_type": "stream",
          "text": [
            "1300\n"
          ],
          "name": "stdout"
        },
        {
          "output_type": "display_data",
          "data": {
            "image/png": "[encoded data removed]",
            "text/plain": [
              "<Figure size 432x288 with 1 Axes>"
            ]
          },
          "metadata": {
            "tags": []
          }
        }
      ]
    },
    {
      "cell_type": "markdown",
      "metadata": {
        "id": "eQ-Ibc-sCzUV",
        "colab_type": "text"
      },
      "source": [
        "#Монтируем цветное видео "
      ]
    },
    {
      "cell_type": "code",
      "metadata": {
        "id": "B3zXp1txnPCN",
        "colab_type": "code",
        "colab": {}
      },
      "source": [
        "pathIn= './'\n",
        "pathOut = 'video.avi'\n",
        "fps = 25 #можно поменять fps длч видео\n",
        "frame_array = []\n",
        "files = [f for f in os.listdir(pathIn) if isfile(join(pathIn, f))]\n",
        "#files = [f for f in files if f[0] == 'c'] #фильтруем цветные изображения если  в перемешку с чб\n",
        "files.sort(key = lambda x: int(x[6:-4])) #сортируем по цифрам 2-3 значные\n",
        "#files.sort()"
      ],
      "execution_count": 0,
      "outputs": []
    },
    {
      "cell_type": "code",
      "metadata": {
        "id": "uUgru4yPd3kT",
        "colab_type": "code",
        "outputId": "deb958ff-e743-40d0-8aa2-3450dfe7991c",
        "colab": {
          "base_uri": "https://localhost:8080/",
          "height": 53
        }
      },
      "source": [
        "for i in range(len(files)):\n",
        "    filename=pathIn + files[i]\n",
        "    #reading each files\n",
        "    img = cv2.imread(filename)\n",
        "    height, width, layers = img.shape\n",
        "    size = (width,height)\n",
        "    \n",
        "    #inserting the frames into an image array\n",
        "    frame_array.append(img)\n",
        "print('Изображения собраны! - fps = ', fps, '-fps')\n",
        "out = cv2.VideoWriter(pathOut,cv2.VideoWriter_fourcc(*'DIVX'), fps, size)\n",
        "for i in range(len(frame_array)):\n",
        "    # writing to a image array\n",
        "    out.write(frame_array[i])\n",
        "out.release()\n",
        "print ('Готово!')"
      ],
      "execution_count": 0,
      "outputs": [
        {
          "output_type": "stream",
          "text": [
            "Изображения собраны! - fps =  25\n",
            "Готово!\n"
          ],
          "name": "stdout"
        }
      ]
    }
  ]
}